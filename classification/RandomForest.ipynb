{
 "cells": [
  {
   "cell_type": "code",
   "execution_count": 1,
   "metadata": {},
   "outputs": [],
   "source": [
    "from pyspark.sql import SparkSession, SQLContext\n",
    "from pyspark import SparkContext,SparkConf\n",
    "spark = SparkSession.builder.appName('classification_task').getOrCreate()"
   ]
  },
  {
   "cell_type": "code",
   "execution_count": 4,
   "metadata": {},
   "outputs": [],
   "source": [
    "df=spark.read.csv(r'./zzd.csv',header=True,inferSchema=True)"
   ]
  },
  {
   "cell_type": "code",
   "execution_count": 5,
   "metadata": {},
   "outputs": [
    {
     "name": "stdout",
     "output_type": "stream",
     "text": [
      "+----+---+------+----+----+------+-----------+-----------+-----------+-----------+-----------+-----------+-----+---+\n",
      "|   1|  2|     3|   4|   5|     6|          7|          8|          9|         10|         11|         12|   13| 14|\n",
      "+----+---+------+----+----+------+-----------+-----------+-----------+-----------+-----------+-----------+-----+---+\n",
      "|7.72| 37|124.26|3.66|3.41|0.2536|27.43926829|      0.435|1.575714286|60.32738095|6.131579483|15.82402098|85.99|  1|\n",
      "|9.17| 77|121.36| 7.8| 4.1|4.7898|29.81151943|0.373038869|1.874487633|170.0271378|2.046075682| 21.8880885|96.16|  1|\n",
      "+----+---+------+----+----+------+-----------+-----------+-----------+-----------+-----------+-----------+-----+---+\n",
      "only showing top 2 rows\n",
      "\n"
     ]
    }
   ],
   "source": [
    "df.show(2)"
   ]
  },
  {
   "cell_type": "code",
   "execution_count": 7,
   "metadata": {},
   "outputs": [],
   "source": [
    "from pyspark.ml.linalg import Vectors\n",
    "from pyspark.ml.feature import StringIndexer\n",
    "stringIndexer = StringIndexer(inputCol=\"14\", outputCol=\"lable\")\n",
    "si_model = stringIndexer.fit(df)\n",
    "td = si_model.transform(df)"
   ]
  },
  {
   "cell_type": "code",
   "execution_count": 8,
   "metadata": {},
   "outputs": [
    {
     "name": "stdout",
     "output_type": "stream",
     "text": [
      "+----+---+------+----+----+------+-----------+-----------+-----------+-----------+-----------+-----------+-----+---+-----+\n",
      "|   1|  2|     3|   4|   5|     6|          7|          8|          9|         10|         11|         12|   13| 14|lable|\n",
      "+----+---+------+----+----+------+-----------+-----------+-----------+-----------+-----------+-----------+-----+---+-----+\n",
      "|7.72| 37|124.26|3.66|3.41|0.2536|27.43926829|      0.435|1.575714286|60.32738095|6.131579483|15.82402098|85.99|  1|  1.0|\n",
      "|9.17| 77|121.36| 7.8| 4.1|4.7898|29.81151943|0.373038869|1.874487633|170.0271378|2.046075682| 21.8880885|96.16|  1|  1.0|\n",
      "+----+---+------+----+----+------+-----------+-----------+-----------+-----------+-----------+-----------+-----+---+-----+\n",
      "only showing top 2 rows\n",
      "\n"
     ]
    }
   ],
   "source": [
    "td.show(2)"
   ]
  },
  {
   "cell_type": "code",
   "execution_count": 10,
   "metadata": {},
   "outputs": [
    {
     "name": "stdout",
     "output_type": "stream",
     "text": [
      "+----+---+------+----+----+------+-----------+-----------+-----------+-----------+-----------+-----------+-----+---+-----+--------------------+\n",
      "|   1|  2|     3|   4|   5|     6|          7|          8|          9|         10|         11|         12|   13| 14|lable|            features|\n",
      "+----+---+------+----+----+------+-----------+-----------+-----------+-----------+-----------+-----------+-----+---+-----+--------------------+\n",
      "|7.72| 37|124.26|3.66|3.41|0.2536|27.43926829|      0.435|1.575714286|60.32738095|6.131579483|15.82402098|85.99|  1|  1.0|[7.72,37.0,124.26...|\n",
      "|9.17| 77|121.36| 7.8| 4.1|4.7898|29.81151943|0.373038869|1.874487633|170.0271378|2.046075682| 21.8880885|96.16|  1|  1.0|[9.17,77.0,121.36...|\n",
      "+----+---+------+----+----+------+-----------+-----------+-----------+-----------+-----------+-----------+-----+---+-----+--------------------+\n",
      "only showing top 2 rows\n",
      "\n"
     ]
    }
   ],
   "source": [
    "from pyspark.ml.feature import VectorAssembler \n",
    "assembler = VectorAssembler(inputCols = ['1','2','3','4','5'], outputCol = 'features')\n",
    "final_df = assembler.transform(td)\n",
    "final_df.show(2)"
   ]
  },
  {
   "cell_type": "code",
   "execution_count": 12,
   "metadata": {},
   "outputs": [
    {
     "data": {
      "text/plain": [
       "SparseVector(5, {0: 0.4705, 1: 0.1962, 2: 0.3333})"
      ]
     },
     "execution_count": 12,
     "metadata": {},
     "output_type": "execute_result"
    }
   ],
   "source": [
    "from pyspark.ml.classification import RandomForestClassifier\n",
    "rf = RandomForestClassifier(numTrees=3, maxDepth=2, labelCol=\"lable\", seed=42)\n",
    "model = rf.fit(final_df)\n",
    "model.featureImportances"
   ]
  },
  {
   "cell_type": "code",
   "execution_count": 13,
   "metadata": {},
   "outputs": [
    {
     "data": {
      "text/plain": [
       "\"cacheNodeIds: If false, the algorithm will pass trees to executors to match instances with nodes. If true, the algorithm will cache node IDs for each instance. Caching can speed up training of deeper trees. (default: False)\\ncheckpointInterval: set checkpoint interval (>= 1) or disable checkpoint (-1). E.g. 10 means that the cache will get checkpointed every 10 iterations. Note: this setting will be ignored if the checkpoint directory is not set in the SparkContext (default: 10)\\nfeatureSubsetStrategy: The number of features to consider for splits at each tree node. Supported options: auto, all, onethird, sqrt, log2, (0.0-1.0], [1-n]. (default: auto)\\nfeaturesCol: features column name (default: features)\\nimpurity: Criterion used for information gain calculation (case-insensitive). Supported options: entropy, gini (default: gini)\\nlabelCol: label column name (default: label, current: lable)\\nmaxBins: Max number of bins for discretizing continuous features.  Must be >=2 and >= number of categories for any categorical feature. (default: 32)\\nmaxDepth: Maximum depth of the tree. (>= 0) E.g., depth 0 means 1 leaf node; depth 1 means 1 internal node + 2 leaf nodes. (default: 5, current: 2)\\nmaxMemoryInMB: Maximum memory in MB allocated to histogram aggregation. (default: 256)\\nminInfoGain: Minimum information gain for a split to be considered at a tree node. (default: 0.0)\\nminInstancesPerNode: Minimum number of instances each child must have after split.  If a split causes the left or right child to have fewer than minInstancesPerNode, the split will be discarded as invalid. Should be >= 1. (default: 1)\\nnumTrees: Number of trees to train (>= 1) (default: 20, current: 3)\\npredictionCol: prediction column name (default: prediction)\\nprobabilityCol: Column name for predicted class conditional probabilities. Note: Not all models output well-calibrated probability estimates! These probabilities should be treated as confidences, not precise probabilities (default: probability)\\nrawPredictionCol: raw prediction (a.k.a. confidence) column name (default: rawPrediction)\\nseed: random seed (default: 3818183660433099536, current: 42)\\nsubsamplingRate: Fraction of the training data used for learning each decision tree, in range (0, 1]. (default: 1.0)\\nthresholds: Thresholds in multi-class classification to adjust the probability of predicting each class. Array must have length equal to the number of classes, with values > 0 excepting that at most one value may be 0. The class with largest value p/t is predicted, where p is the original probability of that class and t is the class's threshold (undefined)\""
      ]
     },
     "execution_count": 13,
     "metadata": {},
     "output_type": "execute_result"
    }
   ],
   "source": [
    "model.explainParams()"
   ]
  },
  {
   "cell_type": "code",
   "execution_count": 16,
   "metadata": {},
   "outputs": [
    {
     "name": "stdout",
     "output_type": "stream",
     "text": [
      "+--------------------+\n",
      "|            features|\n",
      "+--------------------+\n",
      "|[23.0,32.0,23.1,4...|\n",
      "+--------------------+\n",
      "\n"
     ]
    }
   ],
   "source": [
    "test0 = spark.createDataFrame([(Vectors.dense(23.0, 32,23.1,43,312),)], [\"features\"])\n",
    "test0.show(2)"
   ]
  },
  {
   "cell_type": "code",
   "execution_count": 19,
   "metadata": {},
   "outputs": [
    {
     "data": {
      "text/plain": [
       "0.0"
      ]
     },
     "execution_count": 19,
     "metadata": {},
     "output_type": "execute_result"
    }
   ],
   "source": [
    "result = model.transform(test0).head()\n",
    "result.prediction"
   ]
  },
  {
   "cell_type": "code",
   "execution_count": 20,
   "metadata": {},
   "outputs": [
    {
     "data": {
      "text/plain": [
       "DenseVector([0.7132, 0.2868])"
      ]
     },
     "execution_count": 20,
     "metadata": {},
     "output_type": "execute_result"
    }
   ],
   "source": [
    "result.probability"
   ]
  },
  {
   "cell_type": "code",
   "execution_count": null,
   "metadata": {},
   "outputs": [],
   "source": []
  }
 ],
 "metadata": {
  "kernelspec": {
   "display_name": "Python 3",
   "language": "python",
   "name": "python3"
  },
  "language_info": {
   "codemirror_mode": {
    "name": "ipython",
    "version": 3
   },
   "file_extension": ".py",
   "mimetype": "text/x-python",
   "name": "python",
   "nbconvert_exporter": "python",
   "pygments_lexer": "ipython3",
   "version": "3.7.3"
  }
 },
 "nbformat": 4,
 "nbformat_minor": 2
}
